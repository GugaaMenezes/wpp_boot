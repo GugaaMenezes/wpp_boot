{
 "cells": [
  {
   "cell_type": "code",
   "execution_count": 5,
   "id": "ea15f43c",
   "metadata": {},
   "outputs": [],
   "source": [
    "from selenium import webdriver\n",
    "from selenium.webdriver.common.by import By\n",
    "from selenium.webdriver.common.keys import Keys\n",
    "import time\n",
    "\n",
    "navegador = webdriver.Chrome()"
   ]
  },
  {
   "cell_type": "code",
   "execution_count": 6,
   "id": "dab5ab81",
   "metadata": {},
   "outputs": [],
   "source": [
    "from selenium import webdriver\n",
    "from selenium.webdriver.common.keys import Keys\n",
    "from selenium.webdriver.common.by import By\n",
    "import time\n",
    "\n",
    "browser = webdriver.Chrome()\n",
    "browser.get(\"https://web.whatsapp.com\")\n",
    "\n",
    "# Aguardando login no Whasapp\n",
    "while len(browser.find_elements(By.ID, 'side')) < 1:\n",
    "    time.sleep(1)\n",
    "time.sleep(2)"
   ]
  },
  {
   "cell_type": "code",
   "execution_count": 7,
   "id": "6ce010db",
   "metadata": {},
   "outputs": [
    {
     "data": {
      "text/html": [
       "<div>\n",
       "<style scoped>\n",
       "    .dataframe tbody tr th:only-of-type {\n",
       "        vertical-align: middle;\n",
       "    }\n",
       "\n",
       "    .dataframe tbody tr th {\n",
       "        vertical-align: top;\n",
       "    }\n",
       "\n",
       "    .dataframe thead th {\n",
       "        text-align: right;\n",
       "    }\n",
       "</style>\n",
       "<table border=\"1\" class=\"dataframe\">\n",
       "  <thead>\n",
       "    <tr style=\"text-align: right;\">\n",
       "      <th></th>\n",
       "      <th>name</th>\n",
       "      <th>message</th>\n",
       "      <th>phone</th>\n",
       "    </tr>\n",
       "  </thead>\n",
       "  <tbody>\n",
       "    <tr>\n",
       "      <th>0</th>\n",
       "      <td>Gustavo</td>\n",
       "      <td>E aí %name%, tudo tranquilo?</td>\n",
       "      <td>5581999989131</td>\n",
       "    </tr>\n",
       "    <tr>\n",
       "      <th>1</th>\n",
       "      <td>Teste</td>\n",
       "      <td>Te vi ontem a noite, ta tudo bem?</td>\n",
       "      <td>558199988</td>\n",
       "    </tr>\n",
       "    <tr>\n",
       "      <th>2</th>\n",
       "      <td>Preta</td>\n",
       "      <td>Como foi te dia, %name%</td>\n",
       "      <td>5581991505392</td>\n",
       "    </tr>\n",
       "  </tbody>\n",
       "</table>\n",
       "</div>"
      ],
      "text/plain": [
       "      name                            message          phone\n",
       "0  Gustavo       E aí %name%, tudo tranquilo?  5581999989131\n",
       "1    Teste  Te vi ontem a noite, ta tudo bem?      558199988\n",
       "2    Preta            Como foi te dia, %name%  5581991505392"
      ]
     },
     "metadata": {},
     "output_type": "display_data"
    }
   ],
   "source": [
    "# Whatsapp carregado\n",
    "import pandas as pd\n",
    "\n",
    "data = pd.read_excel(\"contacts.xlsx\")\n",
    "display(data[['name', 'message', 'phone']])"
   ]
  },
  {
   "cell_type": "code",
   "execution_count": 8,
   "id": "a8f777d9",
   "metadata": {},
   "outputs": [
    {
     "name": "stdout",
     "output_type": "stream",
     "text": [
      "Sending messages...\n",
      "Send... -> 1 - Gustavo 5581999989131\n",
      "\u001b[1;32mSuccess -> 5581999989131\u001b[m\n",
      "Send... -> 2 - Teste 558199988\n",
      "\u001b[1;31mERROR -> 558199988 (Invalid Number or No Whatsapp)\u001b[m\n",
      "Send... -> 3 - Preta 5581991505392\n",
      "\u001b[1;32mSuccess -> 5581991505392\u001b[m\n"
     ]
    }
   ],
   "source": [
    "import urllib\n",
    "import time\n",
    "import os\n",
    "import ctypes\n",
    "\n",
    "print(\"Sending messages...\")\n",
    "\n",
    "for i in data.index:\n",
    "\n",
    "    name = data.loc[i, \"name\"]\n",
    "    message = data.loc[i, \"message\"]\n",
    "    phone = data.loc[i, \"phone\"]\n",
    "    \n",
    "    text = message.replace(\"%name%\", name)\n",
    "    text = urllib.parse.quote(f\"E aí, *{name}*! {message}\")\n",
    "\n",
    "    # enviando mensagem\n",
    "    link = f\"https://web.whatsapp.com/send?phone={phone}&text={text}\"\n",
    "    print(f\"Send... -> {i+1} - {name} {phone}\")\n",
    "        \n",
    "    browser.get(link)\n",
    "    \n",
    "    while len(browser.find_elements(By.ID, 'side')) < 1:\n",
    "        time.sleep(1)\n",
    "    time.sleep(2)\n",
    "    \n",
    "    # \n",
    "    if len(browser.find_elements(By.XPATH, '//*[@id=\"app\"]/div/span[2]/div/span/div/div/div/div/div/div[1]')) < 1:\n",
    "        # enviando a messagem\n",
    "        browser.find_element(By.XPATH, '//*[@id=\"main\"]/footer/div[1]/div/span[2]/div/div[2]/div[2]/button/span').click()\n",
    "        print(f'\\033[1;32mSuccess -> {phone}\\033[m')\n",
    "\n",
    "        time.sleep(5)\n",
    "    else: # Caso não seja encontrado o numero\n",
    "        print(f'\\033[1;31mERROR -> {phone} (Invalid Number or No Whatsapp)\\033[m')\n",
    "        "
   ]
  },
  {
   "cell_type": "code",
   "execution_count": 9,
   "id": "b91210f2",
   "metadata": {},
   "outputs": [
    {
     "data": {
      "text/plain": [
       "1"
      ]
     },
     "execution_count": 9,
     "metadata": {},
     "output_type": "execute_result"
    }
   ],
   "source": [
    "browser.quit()\n",
    "\n",
    "ctypes.windll.user32.MessageBoxW(0, f'Complete', 'Status sending messages')"
   ]
  }
 ],
 "metadata": {
  "kernelspec": {
   "display_name": "Python 3 (ipykernel)",
   "language": "python",
   "name": "python3"
  },
  "language_info": {
   "codemirror_mode": {
    "name": "ipython",
    "version": 3
   },
   "file_extension": ".py",
   "mimetype": "text/x-python",
   "name": "python",
   "nbconvert_exporter": "python",
   "pygments_lexer": "ipython3",
   "version": "3.9.13"
  }
 },
 "nbformat": 4,
 "nbformat_minor": 5
}
