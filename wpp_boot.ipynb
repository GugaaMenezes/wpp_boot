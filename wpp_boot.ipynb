{
 "cells": [
  {
   "cell_type": "code",
   "execution_count": 22,
   "id": "dab5ab81",
   "metadata": {},
   "outputs": [],
   "source": [
    "from selenium import webdriver\n",
    "from selenium.webdriver.common.keys import Keys\n",
    "from selenium.webdriver.common.by import By\n",
    "import time\n",
    "\n",
    "browser = webdriver.Chrome()\n",
    "browser.get(\"https://web.whatsapp.com\")\n",
    "\n",
    "# Aguardando login no Whasapp\n",
    "while len(browser.find_elements(By.ID, 'side')) < 1:\n",
    "    time.sleep(1)\n",
    "time.sleep(2)"
   ]
  },
  {
   "cell_type": "code",
   "execution_count": null,
   "id": "6ce010db",
   "metadata": {},
   "outputs": [],
   "source": [
    "# Whatsapp carregado\n",
    "import pandas as pd\n",
    "\n",
    "data = pd.read_excel(\"contacts.xlsx\")\n",
    "display(data[['name', 'message', 'phone']])"
   ]
  },
  {
   "cell_type": "code",
   "execution_count": null,
   "id": "a8f777d9",
   "metadata": {},
   "outputs": [],
   "source": [
    "import urllib\n",
    "import time\n",
    "import os\n",
    "import ctypes\n",
    "\n",
    "print(\"Sending messages...\")\n",
    "\n",
    "for i in data.index:\n",
    "\n",
    "    name = data.loc[i, \"name\"]\n",
    "    message = data.loc[i, \"message\"]\n",
    "    phone = data.loc[i, \"phone\"]\n",
    "    \n",
    "    texto = message.replace(\"zzzz\", name)\n",
    "    text = urllib.parse.quote(f\"E aí, *{name}*! {message}\")\n",
    "\n",
    "    # enviando mensagem\n",
    "    link = f\"https://web.whatsapp.com/send?phone={phone}&text={text}\"\n",
    "    print(f\"Send... -> {i+1} - {name} {phone}\")\n",
    "        \n",
    "    browser.get(link)\n",
    "    \n",
    "    while len(browser.find_elements(By.ID, 'side')) < 1:\n",
    "        time.sleep(1)\n",
    "    time.sleep(2)\n",
    "    \n",
    "    # \n",
    "    if len(browser.find_elements(By.XPATH, '//*[@id=\"app\"]/div/span[2]/div/span/div/div/div/div/div/div[1]')) < 1:\n",
    "        # enviando a messagem\n",
    "        browser.find_element(By.XPATH, '//*[@id=\"main\"]/footer/div[1]/div/span[2]/div/div[2]/div[2]/button/span').click()\n",
    "        print(f'\\033[1;32mSuccess -> {phone}\\033[m')\n",
    "\n",
    "        time.sleep(5)\n",
    "    else: # Caso não seja encontrado o numero\n",
    "        print(f'\\033[1;31mERROR -> {phone} (Invalid Number or No Whatsapp)\\033[m')\n",
    "        "
   ]
  },
  {
   "cell_type": "code",
   "execution_count": null,
   "id": "b91210f2",
   "metadata": {},
   "outputs": [],
   "source": [
    "browser.quit()\n",
    "\n",
    "ctypes.windll.user32.MessageBoxW(0, f'Complete', 'Status sending messages')"
   ]
  }
 ],
 "metadata": {
  "kernelspec": {
   "display_name": "Python 3 (ipykernel)",
   "language": "python",
   "name": "python3"
  },
  "language_info": {
   "codemirror_mode": {
    "name": "ipython",
    "version": 3
   },
   "file_extension": ".py",
   "mimetype": "text/x-python",
   "name": "python",
   "nbconvert_exporter": "python",
   "pygments_lexer": "ipython3",
   "version": "3.9.13"
  }
 },
 "nbformat": 4,
 "nbformat_minor": 5
}
